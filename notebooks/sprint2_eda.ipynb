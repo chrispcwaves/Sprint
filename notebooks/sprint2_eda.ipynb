{
 "cells": [
  {
   "cell_type": "code",
   "execution_count": null,
   "metadata": {},
   "outputs": [],
   "source": [
    "import pandas as pd\n",
    "import matplotlib.pyplot as plt\n",
    "import seaborn as sns\n",
    "from pathlib import Path\n",
    "\n",
    "#Cell 1 — Import Libraries & Load Data\n",
    "df = pd.read_csv(\"data/processed/gym_members_cleaned.csv\")\n",
    "df.head()"
   ]
  },
  {
   "cell_type": "code",
   "execution_count": null,
   "metadata": {},
   "outputs": [],
   "source": [
    "# Summary statistics for numeric and categorical columns\n",
    "df.describe().T"
   ]
  },
  {
   "cell_type": "code",
   "execution_count": null,
   "metadata": {},
   "outputs": [],
   "source": [
    "# Check for missing data across columns\n",
    "df.isna().sum()\n"
   ]
  },
  {
   "cell_type": "code",
   "execution_count": null,
   "metadata": {},
   "outputs": [],
   "source": [
    "# Plot boxplots for numeric columns to check outliers\n",
    "num = df.select_dtypes(include=[\"float64\", \"int64\"])\n",
    "ax = num.boxplot(rot=45, figsize=(10,5))\n",
    "plt.title(\"Boxplot of Numeric Variables – Outlier Check\")\n",
    "\n",
    "from pathlib import Path\n",
    "Path(\"reports/figures\").mkdir(parents=True, exist_ok=True)\n",
    "plt.savefig(\"reports/figures/boxplot_outliers.png\", bbox_inches=\"tight\", dpi=300)\n",
    "plt.show()"
   ]
  },
  {
   "cell_type": "code",
   "execution_count": null,
   "metadata": {},
   "outputs": [],
   "source": [
    "#Histograms for Key Variables:\n",
    "vars_ = [\"Age\", \"BMI\", \"Session_Duration_hours\", \"Workout_Frequency_days_week\", \"Calories_Burned\"]\n",
    "\n",
    "fig, axes = plt.subplots(2, 3, figsize=(12,8))\n",
    "axes = axes.ravel()\n",
    "\n",
    "for i, v in enumerate([c for c in vars_ if c in df.columns][:5]):\n",
    "    sns.histplot(df[v], kde=True, bins=20, ax=axes[i])\n",
    "    axes[i].set_title(f\"Distribution of {v}\")\n",
    "\n",
    "plt.tight_layout()\n",
    "plt.savefig(\"reports/figures/numeric_distributions.png\", bbox_inches=\"tight\", dpi=300)\n",
    "plt.show()"
   ]
  },
  {
   "cell_type": "code",
   "execution_count": null,
   "metadata": {},
   "outputs": [],
   "source": [
    "#Workout Frequency vs Session Duration by Retention \n",
    "sns.scatterplot(\n",
    "    data=df,\n",
    "    x=\"Workout_Frequency_days_week\",\n",
    "    y=\"Session_Duration_hours\",\n",
    "    hue=\"retention_status\"\n",
    ")\n",
    "plt.title(\"Workout Frequency vs Session Duration by Retention\")\n",
    "plt.savefig(\"reports/figures/scatter_frequency_duration_retention.png\", bbox_inches=\"tight\", dpi=300)\n",
    "plt.show()\n"
   ]
  },
  {
   "cell_type": "code",
   "execution_count": null,
   "metadata": {},
   "outputs": [],
   "source": [
    "#Correlation Matrix \n",
    "corr = df.select_dtypes(include=[\"float64\", \"int64\"]).corr()\n",
    "plt.figure(figsize=(9,7))\n",
    "sns.heatmap(corr, annot=True, fmt=\".2f\", cmap=\"coolwarm\")\n",
    "plt.title(\"Correlation Matrix of Numeric Features\")\n",
    "plt.savefig(\"reports/figures/correlation_matrix.png\", bbox_inches=\"tight\", dpi=300)\n",
    "plt.show()\n"
   ]
  },
  {
   "cell_type": "code",
   "execution_count": null,
   "metadata": {},
   "outputs": [],
   "source": [
    "#Average Retention by Workout Type\n",
    "plt.figure(figsize=(6,4))\n",
    "sns.barplot(x='Workout_Type', y='retention_status', data=df, palette='muted', ci=None)\n",
    "plt.title(\"Average Retention by Workout Type\")\n",
    "plt.xlabel(\"Workout Type\")\n",
    "plt.ylabel(\"Average Retention Rate\")\n",
    "plt.savefig(\"reports/figures/barplot_workouttype_retention.png\", dpi=300, bbox_inches=\"tight\")\n",
    "plt.show()\n"
   ]
  }
 ],
 "metadata": {
  "kernelspec": {
   "display_name": "Python 3",
   "language": "python",
   "name": "python3"
  },
  "language_info": {
   "codemirror_mode": {
    "name": "ipython",
    "version": 3
   },
   "file_extension": ".py",
   "mimetype": "text/x-python",
   "name": "python",
   "nbconvert_exporter": "python",
   "pygments_lexer": "ipython3",
   "version": "3.12.1"
  }
 },
 "nbformat": 4,
 "nbformat_minor": 2
}
